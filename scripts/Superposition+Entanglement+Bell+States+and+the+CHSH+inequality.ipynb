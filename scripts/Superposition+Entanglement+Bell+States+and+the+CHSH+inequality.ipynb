{
 "cells": [
  {
   "cell_type": "markdown",
   "metadata": {},
   "source": [
    "<img src=\"./images/QISKit-c.gif\" alt=\"Note: In order for images to show up in this jupyter notebook you need to select File => Trusted Notebook\" width=\"250 px\" align=\"left\">"
   ]
  },
  {
   "cell_type": "markdown",
   "metadata": {},
   "source": [
    "## _*Superposition, Entanglement, Bell states, and the CHSH inequality*_ \n",
    "© IBM Research\n",
    "\n",
    "The latest version of this notebook is available on https://github.com/IBM/qiskit-sdk-py/tree/master/scripts.\n",
    "\n",
    "For more information about how to use the Quantum Experience consult the [Quantum Experience tutorials](https://quantumexperience.ng.bluemix.net/qstage/#/tutorial?sectionId=c59b3710b928891a1420190148a72cce&pageIndex=0) or check-out the [community](https://quantumexperience.ng.bluemix.net/qstage/#/community).\n",
    "\n",
    "***\n",
    "### Contributors\n",
    "Jay Gambetta, Antonio Córcoles"
   ]
  },
  {
   "cell_type": "markdown",
   "metadata": {},
   "source": [
    "## Introduction\n",
    "Many people tend to think quantum physics is hard math. This is actually not true. Quantum concepts are very similar to what you probably learned in linear algebra classes in first year university or even at high school. What is hard about quantum physics is that there is no simple underlying theory. Instead, you need to accept counter-intuitive ideas. In putting together the Quantum Experience, we feel that you can get far by understanding two principles. \n",
    "1. A physical system in a perfectly definite state can still behave randomly.\n",
    "2. Two systems that are too far apart to influence each other can nevertheless behave in ways that, though individually random, are somehow strongly correlated."
   ]
  },
  {
   "cell_type": "markdown",
   "metadata": {},
   "source": [
    "## Getting Started\n",
    "Please see the Getting+Started+with+the+QX+API if you would like to understand the API better. However for this script simply import the following preamble once you have made your own Qconfig.py file containing your token from Quantum Experience. "
   ]
  },
  {
   "cell_type": "code",
   "execution_count": 1,
   "metadata": {
    "collapsed": false
   },
   "outputs": [],
   "source": [
    "import sys\n",
    "if sys.version_info < (3,0):\n",
    "    raise Exception(\"Please use Python version 3 or greater.\")\n",
    "    \n",
    "import matplotlib.pyplot as plt\n",
    "import numpy as np\n",
    "import scipy as sp\n",
    "import scipy.linalg\n",
    "%matplotlib inline\n",
    "import time\n",
    "from IBMQuantumExperience import IBMQuantumExperience\n",
    "from Qhelpers.basicPlotter import plotHistogram\n",
    "from Qhelpers.misc import getData\n",
    "from Qhelpers.misc import combineJobs\n",
    "from Qhelpers.misc import averageData\n",
    "\n",
    "import Qconfig\n",
    "api = IBMQuantumExperience.IBMQuantumExperience(Qconfig.APItoken, Qconfig.config)"
   ]
  },
  {
   "cell_type": "markdown",
   "metadata": {},
   "source": [
    "## Superposition\n",
    "\n",
    "The core idea behind principle 1 is quantum superposition. By measuring superposition states in different bases, we can get results that can be random or deterministic. To show this, we will start by introducing the Hadamard gate, $H$. Let's assume for now that this gate is like flipping a coin. It has two outcomes and each occurs with equal probability. If we do this thought experiment, we say that on average we will measure as many heads as we do tails. Let heads be $|0\\rangle$ and $|1\\rangle$ be tails. \n",
    "\n",
    "Let's run the quantum version of this experiment. \n",
    "\n",
    "The experiment consists of first preparing the qubit in the ground state, then applying the Hadamard gate (coin flip), and then measuring the state of the qubit. Repeat the experiment 1024 times (shots). Correctly, you will predict half the outcomes will be in the $|0\\rangle$ state and half will be in the $|1\\rangle$ state.\n",
    "\n",
    "Try the program below. It is seperated into three sections: making the QASM file, running on the device (real), and getting and plotting the data as a histogram. "
   ]
  },
  {
   "cell_type": "code",
   "execution_count": 2,
   "metadata": {
    "collapsed": false
   },
   "outputs": [
    {
     "name": "stdout",
     "output_type": "stream",
     "text": [
      "status = {'RUNNING': 1} (0 seconds)\n",
      "status = {'COMPLETED': 1} (20 seconds)\n"
     ]
    },
    {
     "data": {
      "image/png": "[encoded data removed]",
      "text/plain": [
       "<matplotlib.figure.Figure at 0x10b9bfdd8>"
      ]
     },
     "metadata": {},
     "output_type": "display_data"
    }
   ],
   "source": [
    "programSuperposition = \"\"\"\n",
    "OPENQASM 2.0;\n",
    "include \"qelib1.inc\";\n",
    "qreg q[1];\n",
    "creg c[1];\n",
    "h q[0];\n",
    "measure q[0] -> c[0];\n",
    "\"\"\"\n",
    "\n",
    "qasms = [{'qasm' : programSuperposition}]\n",
    "device = 'real'\n",
    "shots = 1024\n",
    "out = api.runJob(qasms,device,shots,maxCredits=3)\n",
    "jobids=[out['id']]\n",
    "results=combineJobs(jobids, api, wait=20, timeout=240)\n",
    "data=getData(results,0)\n",
    "plotHistogram(data)"
   ]
  },
  {
   "cell_type": "markdown",
   "metadata": {},
   "source": [
    "Here we see that, much like a coin flip, we get 50/50 within projective noise. Now let's run an experiment with two $H$ gates. If this was a coin flip, we would still predict a 50/50 distribution. Let's try the experiment!"
   ]
  },
  {
   "cell_type": "code",
   "execution_count": 3,
   "metadata": {
    "collapsed": false
   },
   "outputs": [
    {
     "name": "stdout",
     "output_type": "stream",
     "text": [
      "status = {'RUNNING': 1} (0 seconds)\n",
      "status = {'COMPLETED': 1} (20 seconds)\n"
     ]
    },
    {
     "data": {
      "image/png": "[encoded data removed]",
      "text/plain": [
       "<matplotlib.figure.Figure at 0x10b9e5a20>"
      ]
     },
     "metadata": {},
     "output_type": "display_data"
    }
   ],
   "source": [
    "programTwoHadamard = \"\"\"\n",
    "OPENQASM 2.0;\n",
    "include \"qelib1.inc\";\n",
    "qreg q[1];\n",
    "creg c[1];\n",
    "h q[0];\n",
    "barrier q;\n",
    "h q[0];\n",
    "measure q[0] -> c[0];\n",
    "\"\"\"\n",
    "\n",
    "qasms = [{'qasm' : programTwoHadamard}]\n",
    "device = 'real'\n",
    "shots = 1024\n",
    "out = api.runJob(qasms,device,shots,maxCredits=3)\n",
    "jobids=[out['id']]\n",
    "results=combineJobs(jobids, api, wait=20, timeout=240)   \n",
    "data=getData(results,0)\n",
    "plotHistogram(data)"
   ]
  },
  {
   "cell_type": "markdown",
   "metadata": {},
   "source": [
    "Here we see that, unlike the classical case, with high probability the outcome is all in the $|0\\rangle$ state. This shows that quantum randomness is not like a classical coin flip. In both cases, the system (without noise) is in a definite state but only the first case behaves randomly. This is because, in the first case, we make a uniform superposition $(|0\\rangle+|1\\rangle)/\\sqrt{2}$ and measure in the computational basis. In the second case, you can think of the second $H$ as changing the measurement basis from the computational to the superposition basis.\n",
    "$$H: |0\\rangle  \\rightarrow  |+\\rangle=\\frac{|0\\rangle+|1\\rangle}{\\sqrt{2}}$$\n",
    "$$H: |1\\rangle \\rightarrow |-\\rangle=\\frac{|0\\rangle-|1\\rangle}{\\sqrt{2}}$$\n",
    "Therefore, if the measurement gives 0, we can conclude that the system was in the $|+\\rangle$ state before the second $H$ gate, and if we obtain 1, it means the system was in the $|-\\rangle$ state. In the above experiment we see that the outcome is mainly 0, suggesting that our system was in the $|+\\rangle$ superposition state before the second $H$ gate. \n",
    "\n",
    "\n",
    "The math is best understood if we represent the quantum state by a two-dimensional vector over the complex numbers. The computational (or standard) basis corresponds to the following pair of column vectors\n",
    "\n",
    "$$|0\\rangle =\\begin{pmatrix} 1 \\\\ 0 \\end{pmatrix}$$\n",
    "$$|1\\rangle =\\begin{pmatrix} 0 \\\\ 1 \\end{pmatrix}$$\n",
    "\n",
    "which in Python can be represented by"
   ]
  },
  {
   "cell_type": "code",
   "execution_count": 4,
   "metadata": {
    "collapsed": true
   },
   "outputs": [],
   "source": [
    "Zero = np.array([[1],[0]])\n",
    "One = np.array([[0],[1]])"
   ]
  },
  {
   "cell_type": "markdown",
   "metadata": {},
   "source": [
    "An arbitrary state $|\\psi\\rangle = \\alpha |0\\rangle + \\beta |1\\rangle$ is a weighted sum of these vectors with $|\\alpha|^2+ |\\beta|^2 =1$.\n",
    "\n",
    "A standard measurement, known in quantum mechanics as a projective or von Neumann measurement, takes any superposition state of the qubit and projects it to either the state $|0\\rangle$  or the state $|1\\rangle$ with a probability determined by:\n",
    "\n",
    "$$P(i) = |\\langle i|\\psi\\rangle|^2$$ \n",
    "\n",
    "We have written the Python function StateOverlap to return this: "
   ]
  },
  {
   "cell_type": "code",
   "execution_count": 5,
   "metadata": {
    "collapsed": false
   },
   "outputs": [],
   "source": [
    "StateOverlap = lambda state1, state2: np.absolute(np.dot(state1.conj().T,state2))**2"
   ]
  },
  {
   "cell_type": "markdown",
   "metadata": {},
   "source": [
    "Now that we have a simple way of going from a state to the probability distribution of a standard measurement, we can go back to the case of a superposition made from the Hadamard gate. The Hadamard gate is defined by the matrix:\n",
    "\n",
    "$$ H =\\frac{1}{\\sqrt{2}}\\begin{pmatrix} 1 & 1 \\\\ 1 & -1 \\end{pmatrix}$$\n",
    "\n",
    "The $H$ gate acting on the state $|0\\rangle$ gives:"
   ]
  },
  {
   "cell_type": "code",
   "execution_count": 6,
   "metadata": {
    "collapsed": false
   },
   "outputs": [
    {
     "data": {
      "image/png": "[encoded data removed]",
      "text/plain": [
       "<matplotlib.figure.Figure at 0x10dce6198>"
      ]
     },
     "metadata": {},
     "output_type": "display_data"
    }
   ],
   "source": [
    "Hadamard = np.array([[1,1],[1,-1]],dtype=complex)/np.sqrt(2)\n",
    "psi1 = np.dot(Hadamard,Zero)\n",
    "P0 = StateOverlap(Zero,psi1)\n",
    "P1 = StateOverlap(One,psi1)\n",
    "plotHistogram({'0' : P0, '1' : P1})"
   ]
  },
  {
   "cell_type": "markdown",
   "metadata": {},
   "source": [
    "which is the ideal version of the first experiment. \n",
    "\n",
    "The second experiment involves applying the Hadamard gate twice. While matrix multiplication shows that the product of two Hadamards is the identity operator, meaning that the state $|0\\rangle$ remains unchanged, here we would rather interpret this as doing a measurement in the superposition basis. Using the above definitions, you can show that H transforms the computational basis to the superposition basis."
   ]
  },
  {
   "cell_type": "code",
   "execution_count": 7,
   "metadata": {
    "collapsed": false
   },
   "outputs": [
    {
     "name": "stdout",
     "output_type": "stream",
     "text": [
      "[[ 0.70710678+0.j]\n",
      " [ 0.70710678+0.j]]\n",
      "[[ 0.70710678+0.j]\n",
      " [-0.70710678+0.j]]\n"
     ]
    }
   ],
   "source": [
    "print(np.dot(Hadamard,Zero))\n",
    "print(np.dot(Hadamard,One))"
   ]
  },
  {
   "cell_type": "markdown",
   "metadata": {},
   "source": [
    "## Entanglement\n",
    "\n",
    "The core idea behind principle 2 is entanglement. Entanglement is not just perfect (classical) correlation. If you and I read the same paper, we will have the same information. If a third person comes along and reads the same paper they will <i>also</i> have this information. All of these people are perfectly correlated. If we separate them, they will still remain correlated. \n",
    "\n",
    "If you and I read a quantum paper we will not learn what the paper says until we get together and share our information. However, when we are together we can ask more questions about this information than we initially thought possible. Thus, quantum entanglement goes much further than perfect correlation.\n",
    "\n",
    "To demonstrate this, we need to define the CNOT gate and the composition of two systems. The convention we use in the Quantum Experience is to label states by writing the first qubit's name in the rightmost position, thereby allowing us to easily convert from binary to decimal. This results in us defining the tensor product between operators $q_0$ and $q_1$ by $q_1\\otimes q_0$. \n",
    "\n",
    "Taking $q_0$ as the control and $q_1$ as the target, the CNOT with this representation is given by\n",
    "\n",
    "$$ CNOT =\\begin{pmatrix} 1 & 0 & 0 & 0\\\\ 0 & 0 & 0 & 1\\\\0& 0& 1 & 0\\\\0 & 1 & 0 & 0 \\end{pmatrix},$$\n",
    "\n",
    "which is non-standard in the quantum community but allows the best connection to classical computing, where the LSB is typically on the right.\n",
    "\n",
    "Using the Kronecker product, we can make the four computational basis states: "
   ]
  },
  {
   "cell_type": "code",
   "execution_count": 8,
   "metadata": {
    "collapsed": false
   },
   "outputs": [],
   "source": [
    "ZeroZero=np.kron(Zero,Zero)\n",
    "ZeroOne=np.kron(Zero,One)\n",
    "OneZero=np.kron(One,Zero)\n",
    "OneOne=np.kron(One,One)\n",
    "CNOT = np.array([[1,0,0,0],[0,0,0,1],[0,0,1,0],[0,1,0,0]],dtype=complex)"
   ]
  },
  {
   "cell_type": "markdown",
   "metadata": {},
   "source": [
    "To make the Bell state $|\\psi\\rangle= (|00\\rangle+|11\\rangle)/\\sqrt{2}$ from the initial state $|00\\rangle$, the quantum circuit first applies a Hadmard on $q_0$ and then a CNOT from $q_0$ to $q_1$. On the Quantum Experience, this is done by using the script:"
   ]
  },
  {
   "cell_type": "code",
   "execution_count": 9,
   "metadata": {
    "collapsed": false
   },
   "outputs": [],
   "source": [
    "programBell = \"\"\"\n",
    "OPENQASM 2.0;\n",
    "include \"qelib1.inc\";\n",
    "qreg q[2];\n",
    "creg c[2];\n",
    "h q[0];\n",
    "cx q[0],q[1];\"\"\"\n",
    "\n",
    "device = 'real'\n",
    "shots = 1024"
   ]
  },
  {
   "cell_type": "markdown",
   "metadata": {},
   "source": [
    "Let's start by asking questions about the first qubit. Let's see if it is in a definite state in the computational basis. We will do this by measuring just $q_0$. "
   ]
  },
  {
   "cell_type": "code",
   "execution_count": 10,
   "metadata": {
    "collapsed": false
   },
   "outputs": [
    {
     "name": "stdout",
     "output_type": "stream",
     "text": [
      "status = {'RUNNING': 1} (0 seconds)\n",
      "status = {'COMPLETED': 1} (20 seconds)\n"
     ]
    },
    {
     "data": {
      "image/png": "[encoded data removed]",
      "text/plain": [
       "<matplotlib.figure.Figure at 0x10b9ca630>"
      ]
     },
     "metadata": {},
     "output_type": "display_data"
    }
   ],
   "source": [
    "programBellZI= programBell + \"\"\"\\nmeasure q[0] -> c[0];\n",
    "\"\"\"\n",
    "\n",
    "qasms = [{'qasm' : programBellZI}]\n",
    "out = api.runJob(qasms,device,shots,maxCredits=3)\n",
    "jobids=[out['id']]\n",
    "results=combineJobs(jobids, api, wait=20, timeout=240)\n",
    "data=getData(results,0)\n",
    "plotHistogram(data)"
   ]
  },
  {
   "cell_type": "markdown",
   "metadata": {},
   "source": [
    "Here we see that it is random. Half the time it is in the $|0\\rangle$ and the other half is in the $|1\\rangle$ state. But maybe it is like the superposition. Maybe the qubit has a perfectly definite state and we were measuring in another basis.  What would you expect if you did the experiment and measured in the superposition basis? Recall we do this by adding a $H$ gate before the measurement. Let's try it."
   ]
  },
  {
   "cell_type": "code",
   "execution_count": 11,
   "metadata": {
    "collapsed": false
   },
   "outputs": [
    {
     "name": "stdout",
     "output_type": "stream",
     "text": [
      "status = {'RUNNING': 1} (0 seconds)\n",
      "status = {'COMPLETED': 1} (20 seconds)\n"
     ]
    },
    {
     "data": {
      "image/png": "[encoded data removed]",
      "text/plain": [
       "<matplotlib.figure.Figure at 0x10dc3ab70>"
      ]
     },
     "metadata": {},
     "output_type": "display_data"
    }
   ],
   "source": [
    "programBellXI= programBell + \"\"\"\\nh q[0]; \\nmeasure q[0] -> c[0];\n",
    "\"\"\"\n",
    "\n",
    "qasms = [{'qasm' : programBellXI}]\n",
    "out = api.runJob(qasms,device,shots,maxCredits=3)\n",
    "jobids=[out['id']]\n",
    "results=combineJobs(jobids, api, wait=20, timeout=240)\n",
    "data=getData(results,0)\n",
    "plotHistogram(data)"
   ]
  },
  {
   "cell_type": "markdown",
   "metadata": {},
   "source": [
    "Here we see again that it is random. So, the outcome for the first qubit is random whether we measure it in the standard basis or in the superpostion basis. We know nothing about the first qubit. What about the second qubit? Below we run experiments that measure in the computational and superpostion basis of the second qubit."
   ]
  },
  {
   "cell_type": "code",
   "execution_count": 12,
   "metadata": {
    "collapsed": false
   },
   "outputs": [
    {
     "name": "stdout",
     "output_type": "stream",
     "text": [
      "status = {'RUNNING': 1} (0 seconds)\n",
      "status = {'COMPLETED': 1} (20 seconds)\n"
     ]
    },
    {
     "data": {
      "image/png": "[encoded data removed]",
      "text/plain": [
       "<matplotlib.figure.Figure at 0x10e17b978>"
      ]
     },
     "metadata": {},
     "output_type": "display_data"
    },
    {
     "name": "stdout",
     "output_type": "stream",
     "text": [
      "status = {'RUNNING': 1} (0 seconds)\n",
      "status = {'COMPLETED': 1} (20 seconds)\n"
     ]
    },
    {
     "data": {
      "image/png": "[encoded data removed]",
      "text/plain": [
       "<matplotlib.figure.Figure at 0x10e192748>"
      ]
     },
     "metadata": {},
     "output_type": "display_data"
    }
   ],
   "source": [
    "programBellIZ= programBell + \"\"\"\\nmeasure q[1] -> c[1];\n",
    "\"\"\"\n",
    "\n",
    "qasms = [{'qasm' : programBellIZ}]\n",
    "out = api.runJob(qasms,device,shots,maxCredits=3)\n",
    "jobids=[out['id']]\n",
    "results=combineJobs(jobids, api, wait=20, timeout=240)\n",
    "data=getData(results,0)\n",
    "plotHistogram(data)\n",
    "\n",
    "programBellIX= programBell + \"\"\"\\nh q[1]; \\nmeasure q[1] -> c[1];\n",
    "\"\"\"\n",
    "\n",
    "qasms = [{'qasm' : programBellIX}]\n",
    "out = api.runJob(qasms,device,shots,maxCredits=3)\n",
    "jobids=[out['id']]\n",
    "results=combineJobs(jobids, api, wait=20, timeout=240)\n",
    "data=getData(results,0)\n",
    "plotHistogram(data)"
   ]
  },
  {
   "cell_type": "markdown",
   "metadata": {},
   "source": [
    "Again, all of the experiments give random outcomes. It seems we know nothing about our system. In the analogy above, this would be as if two different readers read the same quantum paper and extracted no information from it whatsoever.\n",
    "\n",
    "However, if they both got measured in the computation basis, what do you expect? "
   ]
  },
  {
   "cell_type": "code",
   "execution_count": 13,
   "metadata": {
    "collapsed": false
   },
   "outputs": [
    {
     "name": "stdout",
     "output_type": "stream",
     "text": [
      "status = {'RUNNING': 1} (0 seconds)\n",
      "status = {'COMPLETED': 1} (20 seconds)\n"
     ]
    },
    {
     "data": {
      "image/png": "[encoded data removed]",
      "text/plain": [
       "<matplotlib.figure.Figure at 0x10e1929e8>"
      ]
     },
     "metadata": {},
     "output_type": "display_data"
    }
   ],
   "source": [
    "programBellZZ= programBell + \"\"\"\\nmeasure q[0] -> c[0];\\nmeasure q[1] -> c[1];\n",
    "\"\"\"\n",
    "\n",
    "qasms = [{'qasm' : programBellZZ}]\n",
    "out = api.runJob(qasms,device,shots,maxCredits=3)\n",
    "jobids=[out['id']]\n",
    "results=combineJobs(jobids, api, wait=20, timeout=240)\n",
    "data=getData(results,0)\n",
    "plotHistogram(data)"
   ]
  },
  {
   "cell_type": "markdown",
   "metadata": {},
   "source": [
    "Here we see that, with high probability, if $q_0$ is in state 0 so is $q_1$ and same for state 1. They are perfectly correlated.\n",
    "\n",
    "What about in the superposition basis? Lets run the experiment and see. "
   ]
  },
  {
   "cell_type": "code",
   "execution_count": 14,
   "metadata": {
    "collapsed": false
   },
   "outputs": [
    {
     "name": "stdout",
     "output_type": "stream",
     "text": [
      "status = {'RUNNING': 1} (0 seconds)\n",
      "status = {'COMPLETED': 1} (20 seconds)\n"
     ]
    },
    {
     "data": {
      "image/png": "[encoded data removed]",
      "text/plain": [
       "<matplotlib.figure.Figure at 0x10e3de860>"
      ]
     },
     "metadata": {},
     "output_type": "display_data"
    }
   ],
   "source": [
    "programBellXX= programBell + \"\"\"\\n h q[0]; \\n h q[1]; \\nmeasure q[0] -> c[0];\\nmeasure q[1] -> c[1];\n",
    "\"\"\"\n",
    "\n",
    "qasms = [{'qasm' : programBellXX}]\n",
    "out = api.runJob(qasms,device,shots,maxCredits=3)\n",
    "jobids=[out['id']]\n",
    "results=combineJobs(jobids, api, wait=20, timeout=240)\n",
    "data=getData(results,0)\n",
    "plotHistogram(data)"
   ]
  },
  {
   "cell_type": "markdown",
   "metadata": {
    "collapsed": false
   },
   "source": [
    "Here we see that (within experimental noise) the system has perfect correlations in both the computation basis and the superpostion basis. This means that if $q_0$ is measured in state $|0\\rangle$ then we know $q_1$ is in this state, and furthermore if $q_0$ is measured in state $|+\\rangle$ then we know $q_1$ is in this state. These correlations have led to a lot of confusion in science mainly because we try to find analogies between the weird concept of quantum entanglement and everyday experiences and this leads inevitably to many inconsistencies."
   ]
  },
  {
   "cell_type": "markdown",
   "metadata": {},
   "source": [
    "## CHSH inequality \n",
    "\n",
    "In classical physics there are phenomena that can appear random to an observer but are far from being so. For example, the single toss of a coin. Assuming a fair coin, of course, will that give a random outcome? It may appear so. But the apparent randomness stems simply from the fact that we cannot easily measure everything related to the toss of the coin: speed, angular momentum, ambient conditions ... with enough accuracy. These variables are 'hidden' to the classical observer. From the beginnings of quantum mechanics, some people pondered that the randomness inherent to the quantum theory might equally be due to hidden variables. This was for a while a very hot topic of discussion in quantum mechanics.\n",
    "\n",
    "In 1964, John Stewart Bell proposed a theorem that suggests that there are no hidden variables in quantum mechanics. It would not be crazy to state that Bell's theorem might be one of the most profound discoveries ever made in history of science. At the core of Bell's theorem is the famous Bell inequality. Here, we'll use a refined version of this inequality (known as the CHSH inequality, derived by John Clauser, Michael Horne, Abner Shimony, and Richard Holt in 1969) to demonstrate Bell's proposal \n",
    "\n",
    "In the CHSH inequality we measure the correlator of the four observables: $A$ and $A'$ on $q_0$ and $B$ and $B'$ on $q_1$ which have eigenvalues $\\pm 1$. The CHSH inequality says that no local hidden variable theory can have  \n",
    "\n",
    "$$|C|>2$$ \n",
    "\n",
    "where \n",
    "\n",
    "$$C = \\langle B\\otimes A\\rangle + \\langle B\\otimes A'\\rangle+\\langle B'\\otimes A'\\rangle-\\langle B'\\otimes A\\rangle$$\n",
    "\n",
    "\n",
    " \n",
    "* _Locality_: No information can travel faster than the speed of light. There is a hidden variable $\\lambda$ that defines all the correlations so that  $$\\langle A\\otimes B\\rangle = \\sum_\\lambda P(\\lambda) A(\\lambda) B(\\lambda)$$ and $C$ becomes \n",
    "$$C = \\sum_\\lambda P(\\lambda) \\{ B(\\lambda) [ A(\\lambda)+A'(\\lambda)] + B'(\\lambda) [ A'(\\lambda)-A(\\lambda)]$$\n",
    "                      \n",
    "* _Realism_: All observables have a definite value independent of the measurement (+1 or -1). This implies that either $[A(\\lambda)+A'(\\lambda)]=2$ (or 0) while $[A'(\\lambda)-A(\\lambda)]=0$ (or 2) respectively. That is, $|C|=2$, and noise will only make this smaller. \n",
    " \n",
    "If we measure a number greater than 2 then the above assumptions must not be valid, and this is one of those astonishing counterintuitive ideas one must accept in the quantum world.\n",
    "\n",
    "For simplicity we choose these observables to be \n",
    "\n",
    " $$C = \\langle Z\\otimes Z\\rangle + \\langle Z\\otimes X\\rangle+\\langle X\\otimes X\\rangle-\\langle X\\otimes Z\\rangle$$\n",
    "\n",
    "Z is measured in the computational basis and X in the superposition basis ($H$ is applied before measurement) and the input state $$|\\psi(\\theta)\\rangle = I\\otimes Y(\\theta)\\frac{|00\\rangle + |11\\rangle}{\\sqrt(2)}$$ is swept vs $\\theta$. \n",
    " \n",
    "Note that the following demonstration of CHSH is not loophole-free. "
   ]
  },
  {
   "cell_type": "code",
   "execution_count": 15,
   "metadata": {
    "collapsed": true
   },
   "outputs": [],
   "source": [
    "CHSHZZXXexp = lambda x : x[0]+x[1]+x[2]-x[3]\n",
    "\n",
    "obsevable ={'00000': 1, '00001': -1, '00010': -1, '00011': 1}"
   ]
  },
  {
   "cell_type": "code",
   "execution_count": 18,
   "metadata": {
    "collapsed": false
   },
   "outputs": [],
   "source": [
    "qasmhead= \"\"\"\n",
    "OPENQASM 2.0;\n",
    "include \"qelib1.inc\";\n",
    "qreg q[5];\n",
    "creg c[5];\n",
    "h q[0];\n",
    "cx q[0],q[1];\n",
    "\"\"\"\n",
    "qasmend=\"\"\"measure q[0] -> c[0];\n",
    "measure q[1] -> c[1];\n",
    "\"\"\"\n",
    "postrot=[\"\",\"h q[0];\\n\", \"h q[0];\\nh q[1];\\n\",\"h q[1];\\n\",]\n",
    "qasms=[]\n",
    "xData=[]\n",
    "for jj in range(30):\n",
    "    theta = 2.0*np.pi*jj/30\n",
    "    for ii in range(4):\n",
    "        qasm=qasmhead + 'u3('+ str(theta) + ',0,0) q[0];\\n' + postrot[ii] + qasmend;\n",
    "        qasms.append({'qasm' : qasm})\n",
    "    xData.append(theta)\n",
    "    "
   ]
  },
  {
   "cell_type": "code",
   "execution_count": 19,
   "metadata": {
    "collapsed": false
   },
   "outputs": [
    {
     "name": "stdout",
     "output_type": "stream",
     "text": [
      "status = {'RUNNING': 1, 'COMPLETED': 2} (0 seconds)\n",
      "status = {'COMPLETED': 3} (5 seconds)\n"
     ]
    }
   ],
   "source": [
    "device = 'simulator'\n",
    "shots = 1024\n",
    "\n",
    "jobs=[qasms[0:40],qasms[40:80],qasms[80:120]]\n",
    "\n",
    "jobids = []\n",
    "for job in jobs:\n",
    "    out = api.runJob(job, device, shots, maxCredits=3)\n",
    "    jobids.append(out['id'])\n",
    "    \n",
    "r=combineJobs(jobids, api, wait=5, timeout=60)\n",
    "\n",
    "CHSHDataSim = []\n",
    "for j in range(0,len(r['qasms']),4):\n",
    "    temp=[]\n",
    "    temp.append(averageData(getData(r,j+0),obsevable))\n",
    "    temp.append(averageData(getData(r,j+1),obsevable))\n",
    "    temp.append(averageData(getData(r,j+2),obsevable))\n",
    "    temp.append(averageData(getData(r,j+3),obsevable))\n",
    "    CHSHDataSim.append(CHSHZZXXexp(temp))"
   ]
  },
  {
   "cell_type": "code",
   "execution_count": 20,
   "metadata": {
    "collapsed": false
   },
   "outputs": [
    {
     "name": "stdout",
     "output_type": "stream",
     "text": [
      "status = {'RUNNING': 1} (0 seconds)\n",
      "status = {'RUNNING': 1} (20 seconds)\n",
      "status = {'RUNNING': 1} (40 seconds)\n",
      "status = {'COMPLETED': 1} (60 seconds)\n"
     ]
    }
   ],
   "source": [
    "device = 'real'\n",
    "shots = 1024\n",
    "\n",
    "qasms=[]\n",
    "xData2=[]\n",
    "for jj in range(10):\n",
    "    theta = 2.0*np.pi*jj/10\n",
    "    for ii in range(4):\n",
    "        qasm=qasmhead + 'u3('+ str(theta) + ',0,0) q[0];\\n' + postrot[ii] + qasmend;\n",
    "        qasms.append({'qasm' : qasm})\n",
    "    xData2.append(theta)\n",
    "    \n",
    "jobs=[qasms[0:40]]\n",
    "\n",
    "jobids = []\n",
    "for job in jobs:\n",
    "    out = api.runJob(job, device, shots, maxCredits=3)\n",
    "    jobids.append(out['id'])\n",
    "r=combineJobs(jobids, api, wait = 20, timeout = 240)\n",
    "\n",
    "CHSHDataReal = []\n",
    "for j in range(0, len(r['qasms']), 4):\n",
    "    temp=[]\n",
    "    temp.append(averageData(getData(r, j+0), obsevable))\n",
    "    temp.append(averageData(getData(r, j+1), obsevable))\n",
    "    temp.append(averageData(getData(r, j+2), obsevable))\n",
    "    temp.append(averageData(getData(r, j+3), obsevable))\n",
    "    CHSHDataReal.append(CHSHZZXXexp(temp))"
   ]
  },
  {
   "cell_type": "markdown",
   "metadata": {},
   "source": [
    "The graph created by running the next cell compares the simulated data (sinusoidal line) and the data from the real experiment. The graph also gives lines at $\\pm 2$ for reference."
   ]
  },
  {
   "cell_type": "code",
   "execution_count": 21,
   "metadata": {
    "collapsed": false
   },
   "outputs": [
    {
     "data": {
      "image/png": "[encoded data removed]",
      "text/plain": [
       "<matplotlib.figure.Figure at 0x10e3c20b8>"
      ]
     },
     "metadata": {},
     "output_type": "display_data"
    }
   ],
   "source": [
    "plt.plot(xData, CHSHDataSim, 'r-', xData2, CHSHDataReal, 'bo')\n",
    "plt.plot([0, 2*np.pi], [2, 2], 'b-')\n",
    "plt.plot([0, 2*np.pi], [-2, -2], 'b-')\n",
    "plt.grid()\n",
    "plt.ylabel('CHSH', fontsize=20)\n",
    "plt.xlabel(r'$Y(\\theta)$', fontsize=20)\n",
    "plt.show()"
   ]
  },
  {
   "cell_type": "markdown",
   "metadata": {
    "collapsed": false
   },
   "source": [
    "Here is the saved CHSH data. "
   ]
  },
  {
   "cell_type": "code",
   "execution_count": 22,
   "metadata": {
    "collapsed": false
   },
   "outputs": [
    {
     "name": "stdout",
     "output_type": "stream",
     "text": [
      "[1.560546875, 2.263671875, 2.146484375, 1.06640625, -0.306640625, -1.646484375, -2.212890625, -1.97265625, -1.111328125, 0.337890625]\n"
     ]
    }
   ],
   "source": [
    "print(CHSHDataReal)"
   ]
  },
  {
   "cell_type": "markdown",
   "metadata": {},
   "source": [
    "Despite the presence of loopholes in our demonstration, we can see that this experiment is compatible with quantum mechanics as a theory with no local hidden variables."
   ]
  }
 ],
 "metadata": {
  "anaconda-cloud": {},
  "kernelspec": {
   "display_name": "Python [default]",
   "language": "python",
   "name": "python3"
  },
  "language_info": {
   "codemirror_mode": {
    "name": "ipython",
    "version": 3
   },
   "file_extension": ".py",
   "mimetype": "text/x-python",
   "name": "python",
   "nbconvert_exporter": "python",
   "pygments_lexer": "ipython3",
   "version": "3.5.2"
  }
 },
 "nbformat": 4,
 "nbformat_minor": 1
}
